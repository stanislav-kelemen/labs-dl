{
  "nbformat": 4,
  "nbformat_minor": 0,
  "metadata": {
    "colab": {
      "name": "Lab1_3.ipynb",
      "provenance": [],
      "collapsed_sections": []
    },
    "kernelspec": {
      "name": "python3",
      "display_name": "Python 3"
    },
    "language_info": {
      "name": "python"
    }
  },
  "cells": [
    {
      "cell_type": "code",
      "metadata": {
        "id": "3j8oSet7h_xJ"
      },
      "source": [
        "import pandas as pd"
      ],
      "execution_count": 93,
      "outputs": []
    },
    {
      "cell_type": "code",
      "metadata": {
        "colab": {
          "base_uri": "https://localhost:8080/",
          "height": 203
        },
        "id": "7WiAzC3TiLjc",
        "outputId": "1d03d282-c49e-4a80-ae26-78f0bef652c3"
      },
      "source": [
        "train_df = pd.read_csv('iris.csv')\n",
        "train_df.head()"
      ],
      "execution_count": 94,
      "outputs": [
        {
          "output_type": "execute_result",
          "data": {
            "text/html": [
              "<div>\n",
              "<style scoped>\n",
              "    .dataframe tbody tr th:only-of-type {\n",
              "        vertical-align: middle;\n",
              "    }\n",
              "\n",
              "    .dataframe tbody tr th {\n",
              "        vertical-align: top;\n",
              "    }\n",
              "\n",
              "    .dataframe thead th {\n",
              "        text-align: right;\n",
              "    }\n",
              "</style>\n",
              "<table border=\"1\" class=\"dataframe\">\n",
              "  <thead>\n",
              "    <tr style=\"text-align: right;\">\n",
              "      <th></th>\n",
              "      <th>SepalLength</th>\n",
              "      <th>SepalWidth</th>\n",
              "      <th>PetalLength</th>\n",
              "      <th>PetalWidth</th>\n",
              "      <th>Name</th>\n",
              "    </tr>\n",
              "  </thead>\n",
              "  <tbody>\n",
              "    <tr>\n",
              "      <th>0</th>\n",
              "      <td>5.1</td>\n",
              "      <td>3.5</td>\n",
              "      <td>1.4</td>\n",
              "      <td>0.2</td>\n",
              "      <td>Iris-setosa</td>\n",
              "    </tr>\n",
              "    <tr>\n",
              "      <th>1</th>\n",
              "      <td>4.9</td>\n",
              "      <td>3.0</td>\n",
              "      <td>1.4</td>\n",
              "      <td>0.2</td>\n",
              "      <td>Iris-setosa</td>\n",
              "    </tr>\n",
              "    <tr>\n",
              "      <th>2</th>\n",
              "      <td>4.7</td>\n",
              "      <td>3.2</td>\n",
              "      <td>1.3</td>\n",
              "      <td>0.2</td>\n",
              "      <td>Iris-setosa</td>\n",
              "    </tr>\n",
              "    <tr>\n",
              "      <th>3</th>\n",
              "      <td>4.6</td>\n",
              "      <td>3.1</td>\n",
              "      <td>1.5</td>\n",
              "      <td>0.2</td>\n",
              "      <td>Iris-setosa</td>\n",
              "    </tr>\n",
              "    <tr>\n",
              "      <th>4</th>\n",
              "      <td>5.0</td>\n",
              "      <td>3.6</td>\n",
              "      <td>1.4</td>\n",
              "      <td>0.2</td>\n",
              "      <td>Iris-setosa</td>\n",
              "    </tr>\n",
              "  </tbody>\n",
              "</table>\n",
              "</div>"
            ],
            "text/plain": [
              "   SepalLength  SepalWidth  PetalLength  PetalWidth         Name\n",
              "0          5.1         3.5          1.4         0.2  Iris-setosa\n",
              "1          4.9         3.0          1.4         0.2  Iris-setosa\n",
              "2          4.7         3.2          1.3         0.2  Iris-setosa\n",
              "3          4.6         3.1          1.5         0.2  Iris-setosa\n",
              "4          5.0         3.6          1.4         0.2  Iris-setosa"
            ]
          },
          "metadata": {},
          "execution_count": 94
        }
      ]
    },
    {
      "cell_type": "code",
      "metadata": {
        "colab": {
          "base_uri": "https://localhost:8080/"
        },
        "id": "Z0dqnVcXj9hB",
        "outputId": "bd043845-f6b4-41a9-8192-691d2fe83357"
      },
      "source": [
        "for i in range(len(train_df['Name'])):\n",
        "  if train_df['Name'][i] == 'Iris-setosa': train_df['Name'][i] = 0\n",
        "  if train_df['Name'][i] == 'Iris-versicolor': train_df['Name'][i] = 1\n",
        "  if train_df['Name'][i] == 'Iris-virginica': train_df['Name'][i] = 2"
      ],
      "execution_count": 95,
      "outputs": [
        {
          "output_type": "stream",
          "name": "stderr",
          "text": [
            "/usr/local/lib/python3.7/dist-packages/ipykernel_launcher.py:2: SettingWithCopyWarning: \n",
            "A value is trying to be set on a copy of a slice from a DataFrame\n",
            "\n",
            "See the caveats in the documentation: https://pandas.pydata.org/pandas-docs/stable/user_guide/indexing.html#returning-a-view-versus-a-copy\n",
            "  \n",
            "/usr/local/lib/python3.7/dist-packages/ipykernel_launcher.py:3: SettingWithCopyWarning: \n",
            "A value is trying to be set on a copy of a slice from a DataFrame\n",
            "\n",
            "See the caveats in the documentation: https://pandas.pydata.org/pandas-docs/stable/user_guide/indexing.html#returning-a-view-versus-a-copy\n",
            "  This is separate from the ipykernel package so we can avoid doing imports until\n",
            "/usr/local/lib/python3.7/dist-packages/ipykernel_launcher.py:4: SettingWithCopyWarning: \n",
            "A value is trying to be set on a copy of a slice from a DataFrame\n",
            "\n",
            "See the caveats in the documentation: https://pandas.pydata.org/pandas-docs/stable/user_guide/indexing.html#returning-a-view-versus-a-copy\n",
            "  after removing the cwd from sys.path.\n"
          ]
        }
      ]
    },
    {
      "cell_type": "code",
      "metadata": {
        "id": "_Em15wLNim30"
      },
      "source": [
        "import numpy as np\n",
        "\n",
        "for i in train_df:\n",
        "  train_df[i] = np.asarray(train_df[i]).astype('float32')\n",
        "\n",
        "train, val, test = np.split(train_df.sample(frac=1, random_state=1), [int(0.7*len(train_df)), int(0.9*len(train_df))]) "
      ],
      "execution_count": 96,
      "outputs": []
    },
    {
      "cell_type": "code",
      "metadata": {
        "colab": {
          "base_uri": "https://localhost:8080/",
          "height": 203
        },
        "id": "rM9LU84yoq1F",
        "outputId": "1183716a-ac4a-4562-b99e-1463c1ca2bca"
      },
      "source": [
        "train.head()"
      ],
      "execution_count": 97,
      "outputs": [
        {
          "output_type": "execute_result",
          "data": {
            "text/html": [
              "<div>\n",
              "<style scoped>\n",
              "    .dataframe tbody tr th:only-of-type {\n",
              "        vertical-align: middle;\n",
              "    }\n",
              "\n",
              "    .dataframe tbody tr th {\n",
              "        vertical-align: top;\n",
              "    }\n",
              "\n",
              "    .dataframe thead th {\n",
              "        text-align: right;\n",
              "    }\n",
              "</style>\n",
              "<table border=\"1\" class=\"dataframe\">\n",
              "  <thead>\n",
              "    <tr style=\"text-align: right;\">\n",
              "      <th></th>\n",
              "      <th>SepalLength</th>\n",
              "      <th>SepalWidth</th>\n",
              "      <th>PetalLength</th>\n",
              "      <th>PetalWidth</th>\n",
              "      <th>Name</th>\n",
              "    </tr>\n",
              "  </thead>\n",
              "  <tbody>\n",
              "    <tr>\n",
              "      <th>14</th>\n",
              "      <td>5.8</td>\n",
              "      <td>4.0</td>\n",
              "      <td>1.2</td>\n",
              "      <td>0.2</td>\n",
              "      <td>0.0</td>\n",
              "    </tr>\n",
              "    <tr>\n",
              "      <th>98</th>\n",
              "      <td>5.1</td>\n",
              "      <td>2.5</td>\n",
              "      <td>3.0</td>\n",
              "      <td>1.1</td>\n",
              "      <td>1.0</td>\n",
              "    </tr>\n",
              "    <tr>\n",
              "      <th>75</th>\n",
              "      <td>6.6</td>\n",
              "      <td>3.0</td>\n",
              "      <td>4.4</td>\n",
              "      <td>1.4</td>\n",
              "      <td>1.0</td>\n",
              "    </tr>\n",
              "    <tr>\n",
              "      <th>16</th>\n",
              "      <td>5.4</td>\n",
              "      <td>3.9</td>\n",
              "      <td>1.3</td>\n",
              "      <td>0.4</td>\n",
              "      <td>0.0</td>\n",
              "    </tr>\n",
              "    <tr>\n",
              "      <th>131</th>\n",
              "      <td>7.9</td>\n",
              "      <td>3.8</td>\n",
              "      <td>6.4</td>\n",
              "      <td>2.0</td>\n",
              "      <td>2.0</td>\n",
              "    </tr>\n",
              "  </tbody>\n",
              "</table>\n",
              "</div>"
            ],
            "text/plain": [
              "     SepalLength  SepalWidth  PetalLength  PetalWidth  Name\n",
              "14           5.8         4.0          1.2         0.2   0.0\n",
              "98           5.1         2.5          3.0         1.1   1.0\n",
              "75           6.6         3.0          4.4         1.4   1.0\n",
              "16           5.4         3.9          1.3         0.4   0.0\n",
              "131          7.9         3.8          6.4         2.0   2.0"
            ]
          },
          "metadata": {},
          "execution_count": 97
        }
      ]
    },
    {
      "cell_type": "code",
      "metadata": {
        "colab": {
          "base_uri": "https://localhost:8080/",
          "height": 203
        },
        "id": "nXtvXLAqpH0x",
        "outputId": "ffe162a8-14b1-4dd5-a636-99788f8f22a7"
      },
      "source": [
        "val.head()"
      ],
      "execution_count": 98,
      "outputs": [
        {
          "output_type": "execute_result",
          "data": {
            "text/html": [
              "<div>\n",
              "<style scoped>\n",
              "    .dataframe tbody tr th:only-of-type {\n",
              "        vertical-align: middle;\n",
              "    }\n",
              "\n",
              "    .dataframe tbody tr th {\n",
              "        vertical-align: top;\n",
              "    }\n",
              "\n",
              "    .dataframe thead th {\n",
              "        text-align: right;\n",
              "    }\n",
              "</style>\n",
              "<table border=\"1\" class=\"dataframe\">\n",
              "  <thead>\n",
              "    <tr style=\"text-align: right;\">\n",
              "      <th></th>\n",
              "      <th>SepalLength</th>\n",
              "      <th>SepalWidth</th>\n",
              "      <th>PetalLength</th>\n",
              "      <th>PetalWidth</th>\n",
              "      <th>Name</th>\n",
              "    </tr>\n",
              "  </thead>\n",
              "  <tbody>\n",
              "    <tr>\n",
              "      <th>26</th>\n",
              "      <td>5.0</td>\n",
              "      <td>3.4</td>\n",
              "      <td>1.6</td>\n",
              "      <td>0.4</td>\n",
              "      <td>0.0</td>\n",
              "    </tr>\n",
              "    <tr>\n",
              "      <th>76</th>\n",
              "      <td>6.8</td>\n",
              "      <td>2.8</td>\n",
              "      <td>4.8</td>\n",
              "      <td>1.4</td>\n",
              "      <td>1.0</td>\n",
              "    </tr>\n",
              "    <tr>\n",
              "      <th>43</th>\n",
              "      <td>5.0</td>\n",
              "      <td>3.5</td>\n",
              "      <td>1.6</td>\n",
              "      <td>0.6</td>\n",
              "      <td>0.0</td>\n",
              "    </tr>\n",
              "    <tr>\n",
              "      <th>24</th>\n",
              "      <td>4.8</td>\n",
              "      <td>3.4</td>\n",
              "      <td>1.9</td>\n",
              "      <td>0.2</td>\n",
              "      <td>0.0</td>\n",
              "    </tr>\n",
              "    <tr>\n",
              "      <th>136</th>\n",
              "      <td>6.3</td>\n",
              "      <td>3.4</td>\n",
              "      <td>5.6</td>\n",
              "      <td>2.4</td>\n",
              "      <td>2.0</td>\n",
              "    </tr>\n",
              "  </tbody>\n",
              "</table>\n",
              "</div>"
            ],
            "text/plain": [
              "     SepalLength  SepalWidth  PetalLength  PetalWidth  Name\n",
              "26           5.0         3.4          1.6         0.4   0.0\n",
              "76           6.8         2.8          4.8         1.4   1.0\n",
              "43           5.0         3.5          1.6         0.6   0.0\n",
              "24           4.8         3.4          1.9         0.2   0.0\n",
              "136          6.3         3.4          5.6         2.4   2.0"
            ]
          },
          "metadata": {},
          "execution_count": 98
        }
      ]
    },
    {
      "cell_type": "code",
      "metadata": {
        "colab": {
          "base_uri": "https://localhost:8080/",
          "height": 203
        },
        "id": "SyfUnTjOpJG3",
        "outputId": "39fdf30d-7c81-474e-8a3c-478d0fac39a1"
      },
      "source": [
        "test.head()"
      ],
      "execution_count": 99,
      "outputs": [
        {
          "output_type": "execute_result",
          "data": {
            "text/html": [
              "<div>\n",
              "<style scoped>\n",
              "    .dataframe tbody tr th:only-of-type {\n",
              "        vertical-align: middle;\n",
              "    }\n",
              "\n",
              "    .dataframe tbody tr th {\n",
              "        vertical-align: top;\n",
              "    }\n",
              "\n",
              "    .dataframe thead th {\n",
              "        text-align: right;\n",
              "    }\n",
              "</style>\n",
              "<table border=\"1\" class=\"dataframe\">\n",
              "  <thead>\n",
              "    <tr style=\"text-align: right;\">\n",
              "      <th></th>\n",
              "      <th>SepalLength</th>\n",
              "      <th>SepalWidth</th>\n",
              "      <th>PetalLength</th>\n",
              "      <th>PetalWidth</th>\n",
              "      <th>Name</th>\n",
              "    </tr>\n",
              "  </thead>\n",
              "  <tbody>\n",
              "    <tr>\n",
              "      <th>96</th>\n",
              "      <td>5.7</td>\n",
              "      <td>2.9</td>\n",
              "      <td>4.2</td>\n",
              "      <td>1.3</td>\n",
              "      <td>1.0</td>\n",
              "    </tr>\n",
              "    <tr>\n",
              "      <th>68</th>\n",
              "      <td>6.2</td>\n",
              "      <td>2.2</td>\n",
              "      <td>4.5</td>\n",
              "      <td>1.5</td>\n",
              "      <td>1.0</td>\n",
              "    </tr>\n",
              "    <tr>\n",
              "      <th>50</th>\n",
              "      <td>7.0</td>\n",
              "      <td>3.2</td>\n",
              "      <td>4.7</td>\n",
              "      <td>1.4</td>\n",
              "      <td>1.0</td>\n",
              "    </tr>\n",
              "    <tr>\n",
              "      <th>101</th>\n",
              "      <td>5.8</td>\n",
              "      <td>2.7</td>\n",
              "      <td>5.1</td>\n",
              "      <td>1.9</td>\n",
              "      <td>2.0</td>\n",
              "    </tr>\n",
              "    <tr>\n",
              "      <th>20</th>\n",
              "      <td>5.4</td>\n",
              "      <td>3.4</td>\n",
              "      <td>1.7</td>\n",
              "      <td>0.2</td>\n",
              "      <td>0.0</td>\n",
              "    </tr>\n",
              "  </tbody>\n",
              "</table>\n",
              "</div>"
            ],
            "text/plain": [
              "     SepalLength  SepalWidth  PetalLength  PetalWidth  Name\n",
              "96           5.7         2.9          4.2         1.3   1.0\n",
              "68           6.2         2.2          4.5         1.5   1.0\n",
              "50           7.0         3.2          4.7         1.4   1.0\n",
              "101          5.8         2.7          5.1         1.9   2.0\n",
              "20           5.4         3.4          1.7         0.2   0.0"
            ]
          },
          "metadata": {},
          "execution_count": 99
        }
      ]
    },
    {
      "cell_type": "code",
      "metadata": {
        "colab": {
          "base_uri": "https://localhost:8080/"
        },
        "id": "gA0miSWUpLTE",
        "outputId": "04721ca4-769d-4a76-ed66-64f522fb4cc7"
      },
      "source": [
        "print(train.shape[0])\n",
        "print(val.shape[0])\n",
        "print(test.shape[0])"
      ],
      "execution_count": 100,
      "outputs": [
        {
          "output_type": "stream",
          "name": "stdout",
          "text": [
            "105\n",
            "30\n",
            "15\n"
          ]
        }
      ]
    },
    {
      "cell_type": "code",
      "metadata": {
        "id": "4iPpHENjqFar"
      },
      "source": [
        "train_y, train_X = train['SepalLength'], train.drop(columns=['SepalLength'])\n",
        "val_y, val_X = val['SepalLength'], val.drop(columns=['SepalLength'])\n",
        "test_y, test_X = test['SepalLength'], test.drop(columns=['SepalLength'])"
      ],
      "execution_count": 101,
      "outputs": []
    },
    {
      "cell_type": "markdown",
      "metadata": {
        "id": "LjvHQ6Kvrid-"
      },
      "source": [
        "Побудуємо модель"
      ]
    },
    {
      "cell_type": "code",
      "metadata": {
        "id": "qRNrndRvtD72"
      },
      "source": [
        "from keras.models import Sequential\n",
        "from keras.layers import Dense"
      ],
      "execution_count": 102,
      "outputs": []
    },
    {
      "cell_type": "code",
      "metadata": {
        "id": "I2X0dCfmtPlz"
      },
      "source": [
        "models = []\n",
        "neurons = 20\n",
        "\n",
        "for i in range(4):\n",
        "  models.append(Sequential([\n",
        "                      Dense(neurons, activation='relu', input_shape=(train_X.shape[1],)),\n",
        "                      Dense(neurons, activation='relu'),\n",
        "                      Dense(neurons, activation='relu'),\n",
        "                      Dense(1)\n",
        "  ]))\n",
        "\n",
        "  models[i].compile(optimizer='adam', loss='mean_squared_error', metrics=['mae'])\n",
        "  neurons *= 2"
      ],
      "execution_count": 103,
      "outputs": []
    },
    {
      "cell_type": "code",
      "metadata": {
        "colab": {
          "base_uri": "https://localhost:8080/"
        },
        "id": "ye4Fu5aUu_95",
        "outputId": "59612ce0-c41d-4755-855c-fbcf7c772389"
      },
      "source": [
        "validation_data = (val_X, val_y)\n",
        "EPOCHS = 50\n",
        "histories = []\n",
        "\n",
        "for i in range(4):\n",
        "    histories.append(models[i].fit(train_X, train_y, validation_data=validation_data, epochs=EPOCHS))"
      ],
      "execution_count": 104,
      "outputs": [
        {
          "output_type": "stream",
          "name": "stdout",
          "text": [
            "Epoch 1/50\n",
            "1/4 [======>.......................] - ETA: 1s - loss: 59.3169 - mae: 7.4474WARNING:tensorflow:6 out of the last 55 calls to <function Model.make_test_function.<locals>.test_function at 0x7f8b06abc290> triggered tf.function retracing. Tracing is expensive and the excessive number of tracings could be due to (1) creating @tf.function repeatedly in a loop, (2) passing tensors with different shapes, (3) passing Python objects instead of tensors. For (1), please define your @tf.function outside of the loop. For (2), @tf.function has experimental_relax_shapes=True option that relaxes argument shapes that can avoid unnecessary retracing. For (3), please refer to https://www.tensorflow.org/guide/function#controlling_retracing and https://www.tensorflow.org/api_docs/python/tf/function for  more details.\n",
            "4/4 [==============================] - 1s 55ms/step - loss: 57.4313 - mae: 7.3662 - val_loss: 39.4010 - val_mae: 6.0952\n",
            "Epoch 2/50\n",
            "4/4 [==============================] - 0s 8ms/step - loss: 48.1087 - mae: 6.7624 - val_loss: 33.3610 - val_mae: 5.6309\n",
            "Epoch 3/50\n",
            "4/4 [==============================] - 0s 8ms/step - loss: 40.6728 - mae: 6.2347 - val_loss: 28.2446 - val_mae: 5.2018\n",
            "Epoch 4/50\n",
            "4/4 [==============================] - 0s 8ms/step - loss: 33.9737 - mae: 5.7156 - val_loss: 23.4124 - val_mae: 4.7588\n",
            "Epoch 5/50\n",
            "4/4 [==============================] - 0s 9ms/step - loss: 27.6797 - mae: 5.1776 - val_loss: 19.2508 - val_mae: 4.3364\n",
            "Epoch 6/50\n",
            "4/4 [==============================] - 0s 11ms/step - loss: 22.6868 - mae: 4.7029 - val_loss: 16.1902 - val_mae: 3.9889\n",
            "Epoch 7/50\n",
            "4/4 [==============================] - 0s 9ms/step - loss: 18.8821 - mae: 4.3025 - val_loss: 13.5900 - val_mae: 3.6603\n",
            "Epoch 8/50\n",
            "4/4 [==============================] - 0s 8ms/step - loss: 15.7560 - mae: 3.9373 - val_loss: 11.3419 - val_mae: 3.3473\n",
            "Epoch 9/50\n",
            "4/4 [==============================] - 0s 10ms/step - loss: 12.9957 - mae: 3.5786 - val_loss: 9.2667 - val_mae: 3.0278\n",
            "Epoch 10/50\n",
            "4/4 [==============================] - 0s 10ms/step - loss: 10.4652 - mae: 3.2121 - val_loss: 7.3535 - val_mae: 2.6971\n",
            "Epoch 11/50\n",
            "4/4 [==============================] - 0s 10ms/step - loss: 8.1364 - mae: 2.8315 - val_loss: 5.6460 - val_mae: 2.3592\n",
            "Epoch 12/50\n",
            "4/4 [==============================] - 0s 8ms/step - loss: 6.1083 - mae: 2.4480 - val_loss: 4.1755 - val_mae: 2.0178\n",
            "Epoch 13/50\n",
            "4/4 [==============================] - 0s 8ms/step - loss: 4.3777 - mae: 2.0586 - val_loss: 2.9523 - val_mae: 1.6739\n",
            "Epoch 14/50\n",
            "4/4 [==============================] - 0s 9ms/step - loss: 2.9600 - mae: 1.6657 - val_loss: 1.9915 - val_mae: 1.3319\n",
            "Epoch 15/50\n",
            "4/4 [==============================] - 0s 8ms/step - loss: 1.8940 - mae: 1.2868 - val_loss: 1.3016 - val_mae: 1.0027\n",
            "Epoch 16/50\n",
            "4/4 [==============================] - 0s 10ms/step - loss: 1.1577 - mae: 0.9310 - val_loss: 0.8791 - val_mae: 0.7966\n",
            "Epoch 17/50\n",
            "4/4 [==============================] - 0s 8ms/step - loss: 0.7427 - mae: 0.6845 - val_loss: 0.6576 - val_mae: 0.7101\n",
            "Epoch 18/50\n",
            "4/4 [==============================] - 0s 10ms/step - loss: 0.5696 - mae: 0.6016 - val_loss: 0.5642 - val_mae: 0.6807\n",
            "Epoch 19/50\n",
            "4/4 [==============================] - 0s 10ms/step - loss: 0.5337 - mae: 0.6136 - val_loss: 0.5373 - val_mae: 0.6558\n",
            "Epoch 20/50\n",
            "4/4 [==============================] - 0s 9ms/step - loss: 0.5124 - mae: 0.6148 - val_loss: 0.5224 - val_mae: 0.6378\n",
            "Epoch 21/50\n",
            "4/4 [==============================] - 0s 9ms/step - loss: 0.5113 - mae: 0.6135 - val_loss: 0.4972 - val_mae: 0.6144\n",
            "Epoch 22/50\n",
            "4/4 [==============================] - 0s 9ms/step - loss: 0.4835 - mae: 0.5943 - val_loss: 0.4572 - val_mae: 0.5882\n",
            "Epoch 23/50\n",
            "4/4 [==============================] - 0s 11ms/step - loss: 0.4404 - mae: 0.5634 - val_loss: 0.4108 - val_mae: 0.5611\n",
            "Epoch 24/50\n",
            "4/4 [==============================] - 0s 10ms/step - loss: 0.3884 - mae: 0.5231 - val_loss: 0.3673 - val_mae: 0.5336\n",
            "Epoch 25/50\n",
            "4/4 [==============================] - 0s 10ms/step - loss: 0.3464 - mae: 0.4900 - val_loss: 0.3278 - val_mae: 0.5090\n",
            "Epoch 26/50\n",
            "4/4 [==============================] - 0s 13ms/step - loss: 0.3127 - mae: 0.4662 - val_loss: 0.2952 - val_mae: 0.4867\n",
            "Epoch 27/50\n",
            "4/4 [==============================] - 0s 10ms/step - loss: 0.2858 - mae: 0.4448 - val_loss: 0.2682 - val_mae: 0.4643\n",
            "Epoch 28/50\n",
            "4/4 [==============================] - 0s 9ms/step - loss: 0.2622 - mae: 0.4253 - val_loss: 0.2458 - val_mae: 0.4430\n",
            "Epoch 29/50\n",
            "4/4 [==============================] - 0s 9ms/step - loss: 0.2464 - mae: 0.4109 - val_loss: 0.2257 - val_mae: 0.4243\n",
            "Epoch 30/50\n",
            "4/4 [==============================] - 0s 12ms/step - loss: 0.2306 - mae: 0.3972 - val_loss: 0.2076 - val_mae: 0.4073\n",
            "Epoch 31/50\n",
            "4/4 [==============================] - 0s 9ms/step - loss: 0.2161 - mae: 0.3845 - val_loss: 0.1909 - val_mae: 0.3899\n",
            "Epoch 32/50\n",
            "4/4 [==============================] - 0s 9ms/step - loss: 0.2031 - mae: 0.3712 - val_loss: 0.1765 - val_mae: 0.3719\n",
            "Epoch 33/50\n",
            "4/4 [==============================] - 0s 8ms/step - loss: 0.1900 - mae: 0.3571 - val_loss: 0.1649 - val_mae: 0.3555\n",
            "Epoch 34/50\n",
            "4/4 [==============================] - 0s 9ms/step - loss: 0.1793 - mae: 0.3454 - val_loss: 0.1539 - val_mae: 0.3398\n",
            "Epoch 35/50\n",
            "4/4 [==============================] - 0s 9ms/step - loss: 0.1701 - mae: 0.3346 - val_loss: 0.1445 - val_mae: 0.3247\n",
            "Epoch 36/50\n",
            "4/4 [==============================] - 0s 9ms/step - loss: 0.1616 - mae: 0.3252 - val_loss: 0.1372 - val_mae: 0.3091\n",
            "Epoch 37/50\n",
            "4/4 [==============================] - 0s 8ms/step - loss: 0.1547 - mae: 0.3166 - val_loss: 0.1301 - val_mae: 0.2955\n",
            "Epoch 38/50\n",
            "4/4 [==============================] - 0s 11ms/step - loss: 0.1486 - mae: 0.3091 - val_loss: 0.1245 - val_mae: 0.2811\n",
            "Epoch 39/50\n",
            "4/4 [==============================] - 0s 9ms/step - loss: 0.1439 - mae: 0.3039 - val_loss: 0.1206 - val_mae: 0.2704\n",
            "Epoch 40/50\n",
            "4/4 [==============================] - 0s 9ms/step - loss: 0.1391 - mae: 0.2992 - val_loss: 0.1156 - val_mae: 0.2647\n",
            "Epoch 41/50\n",
            "4/4 [==============================] - 0s 9ms/step - loss: 0.1352 - mae: 0.2965 - val_loss: 0.1111 - val_mae: 0.2600\n",
            "Epoch 42/50\n",
            "4/4 [==============================] - 0s 10ms/step - loss: 0.1318 - mae: 0.2949 - val_loss: 0.1076 - val_mae: 0.2562\n",
            "Epoch 43/50\n",
            "4/4 [==============================] - 0s 9ms/step - loss: 0.1296 - mae: 0.2929 - val_loss: 0.1056 - val_mae: 0.2539\n",
            "Epoch 44/50\n",
            "4/4 [==============================] - 0s 9ms/step - loss: 0.1275 - mae: 0.2908 - val_loss: 0.1049 - val_mae: 0.2528\n",
            "Epoch 45/50\n",
            "4/4 [==============================] - 0s 11ms/step - loss: 0.1263 - mae: 0.2899 - val_loss: 0.1040 - val_mae: 0.2521\n",
            "Epoch 46/50\n",
            "4/4 [==============================] - 0s 9ms/step - loss: 0.1253 - mae: 0.2890 - val_loss: 0.1038 - val_mae: 0.2520\n",
            "Epoch 47/50\n",
            "4/4 [==============================] - 0s 11ms/step - loss: 0.1248 - mae: 0.2879 - val_loss: 0.1051 - val_mae: 0.2529\n",
            "Epoch 48/50\n",
            "4/4 [==============================] - 0s 9ms/step - loss: 0.1245 - mae: 0.2864 - val_loss: 0.1064 - val_mae: 0.2544\n",
            "Epoch 49/50\n",
            "4/4 [==============================] - 0s 9ms/step - loss: 0.1245 - mae: 0.2859 - val_loss: 0.1051 - val_mae: 0.2536\n",
            "Epoch 50/50\n",
            "4/4 [==============================] - 0s 8ms/step - loss: 0.1238 - mae: 0.2861 - val_loss: 0.1021 - val_mae: 0.2514\n",
            "Epoch 1/50\n",
            "4/4 [==============================] - 1s 60ms/step - loss: 38.3295 - mae: 6.1156 - val_loss: 27.3356 - val_mae: 5.1700\n",
            "Epoch 2/50\n",
            "4/4 [==============================] - 0s 10ms/step - loss: 31.4287 - mae: 5.5464 - val_loss: 22.1496 - val_mae: 4.6616\n",
            "Epoch 3/50\n",
            "4/4 [==============================] - 0s 10ms/step - loss: 25.1625 - mae: 4.9670 - val_loss: 17.3411 - val_mae: 4.1320\n",
            "Epoch 4/50\n",
            "4/4 [==============================] - 0s 10ms/step - loss: 19.2456 - mae: 4.3515 - val_loss: 12.8891 - val_mae: 3.5679\n",
            "Epoch 5/50\n",
            "4/4 [==============================] - 0s 10ms/step - loss: 13.8221 - mae: 3.6927 - val_loss: 8.8558 - val_mae: 2.9573\n",
            "Epoch 6/50\n",
            "4/4 [==============================] - 0s 10ms/step - loss: 9.0081 - mae: 2.9804 - val_loss: 5.4035 - val_mae: 2.2922\n",
            "Epoch 7/50\n",
            "4/4 [==============================] - 0s 10ms/step - loss: 5.0223 - mae: 2.2029 - val_loss: 2.8220 - val_mae: 1.5853\n",
            "Epoch 8/50\n",
            "4/4 [==============================] - 0s 9ms/step - loss: 2.2955 - mae: 1.3867 - val_loss: 1.3602 - val_mae: 1.0148\n",
            "Epoch 9/50\n",
            "4/4 [==============================] - 0s 9ms/step - loss: 0.9815 - mae: 0.7890 - val_loss: 0.9742 - val_mae: 0.8782\n",
            "Epoch 10/50\n",
            "4/4 [==============================] - 0s 11ms/step - loss: 0.9442 - mae: 0.8403 - val_loss: 1.1561 - val_mae: 0.9376\n",
            "Epoch 11/50\n",
            "4/4 [==============================] - 0s 9ms/step - loss: 1.2955 - mae: 1.0031 - val_loss: 1.2272 - val_mae: 0.9449\n",
            "Epoch 12/50\n",
            "4/4 [==============================] - 0s 10ms/step - loss: 1.3111 - mae: 1.0032 - val_loss: 1.0258 - val_mae: 0.8600\n",
            "Epoch 13/50\n",
            "4/4 [==============================] - 0s 10ms/step - loss: 0.9837 - mae: 0.8664 - val_loss: 0.7561 - val_mae: 0.7474\n",
            "Epoch 14/50\n",
            "4/4 [==============================] - 0s 9ms/step - loss: 0.6516 - mae: 0.7044 - val_loss: 0.5995 - val_mae: 0.6932\n",
            "Epoch 15/50\n",
            "4/4 [==============================] - 0s 10ms/step - loss: 0.4996 - mae: 0.6120 - val_loss: 0.5535 - val_mae: 0.6757\n",
            "Epoch 16/50\n",
            "4/4 [==============================] - 0s 10ms/step - loss: 0.4785 - mae: 0.5711 - val_loss: 0.5341 - val_mae: 0.6637\n",
            "Epoch 17/50\n",
            "4/4 [==============================] - 0s 11ms/step - loss: 0.4679 - mae: 0.5571 - val_loss: 0.4787 - val_mae: 0.6284\n",
            "Epoch 18/50\n",
            "4/4 [==============================] - 0s 9ms/step - loss: 0.4162 - mae: 0.5283 - val_loss: 0.4049 - val_mae: 0.5794\n",
            "Epoch 19/50\n",
            "4/4 [==============================] - 0s 9ms/step - loss: 0.3460 - mae: 0.4856 - val_loss: 0.3411 - val_mae: 0.5303\n",
            "Epoch 20/50\n",
            "4/4 [==============================] - 0s 9ms/step - loss: 0.2948 - mae: 0.4578 - val_loss: 0.2998 - val_mae: 0.4856\n",
            "Epoch 21/50\n",
            "4/4 [==============================] - 0s 9ms/step - loss: 0.2564 - mae: 0.4255 - val_loss: 0.2753 - val_mae: 0.4485\n",
            "Epoch 22/50\n",
            "4/4 [==============================] - 0s 8ms/step - loss: 0.2400 - mae: 0.4099 - val_loss: 0.2535 - val_mae: 0.4160\n",
            "Epoch 23/50\n",
            "4/4 [==============================] - 0s 9ms/step - loss: 0.2214 - mae: 0.3894 - val_loss: 0.2300 - val_mae: 0.3932\n",
            "Epoch 24/50\n",
            "4/4 [==============================] - 0s 8ms/step - loss: 0.1984 - mae: 0.3656 - val_loss: 0.2032 - val_mae: 0.3705\n",
            "Epoch 25/50\n",
            "4/4 [==============================] - 0s 10ms/step - loss: 0.1786 - mae: 0.3429 - val_loss: 0.1788 - val_mae: 0.3513\n",
            "Epoch 26/50\n",
            "4/4 [==============================] - 0s 10ms/step - loss: 0.1637 - mae: 0.3284 - val_loss: 0.1619 - val_mae: 0.3333\n",
            "Epoch 27/50\n",
            "4/4 [==============================] - 0s 9ms/step - loss: 0.1546 - mae: 0.3192 - val_loss: 0.1497 - val_mae: 0.3169\n",
            "Epoch 28/50\n",
            "4/4 [==============================] - 0s 9ms/step - loss: 0.1469 - mae: 0.3119 - val_loss: 0.1429 - val_mae: 0.3013\n",
            "Epoch 29/50\n",
            "4/4 [==============================] - 0s 11ms/step - loss: 0.1409 - mae: 0.3056 - val_loss: 0.1403 - val_mae: 0.2909\n",
            "Epoch 30/50\n",
            "4/4 [==============================] - 0s 9ms/step - loss: 0.1356 - mae: 0.3005 - val_loss: 0.1380 - val_mae: 0.2841\n",
            "Epoch 31/50\n",
            "4/4 [==============================] - 0s 8ms/step - loss: 0.1328 - mae: 0.2976 - val_loss: 0.1330 - val_mae: 0.2777\n",
            "Epoch 32/50\n",
            "4/4 [==============================] - 0s 10ms/step - loss: 0.1298 - mae: 0.2952 - val_loss: 0.1264 - val_mae: 0.2707\n",
            "Epoch 33/50\n",
            "4/4 [==============================] - 0s 9ms/step - loss: 0.1285 - mae: 0.2947 - val_loss: 0.1210 - val_mae: 0.2647\n",
            "Epoch 34/50\n",
            "4/4 [==============================] - 0s 10ms/step - loss: 0.1274 - mae: 0.2943 - val_loss: 0.1182 - val_mae: 0.2613\n",
            "Epoch 35/50\n",
            "4/4 [==============================] - 0s 10ms/step - loss: 0.1269 - mae: 0.2942 - val_loss: 0.1174 - val_mae: 0.2604\n",
            "Epoch 36/50\n",
            "4/4 [==============================] - 0s 10ms/step - loss: 0.1257 - mae: 0.2920 - val_loss: 0.1174 - val_mae: 0.2601\n",
            "Epoch 37/50\n",
            "4/4 [==============================] - 0s 9ms/step - loss: 0.1249 - mae: 0.2910 - val_loss: 0.1178 - val_mae: 0.2601\n",
            "Epoch 38/50\n",
            "4/4 [==============================] - 0s 9ms/step - loss: 0.1245 - mae: 0.2907 - val_loss: 0.1165 - val_mae: 0.2583\n",
            "Epoch 39/50\n",
            "4/4 [==============================] - 0s 11ms/step - loss: 0.1243 - mae: 0.2905 - val_loss: 0.1179 - val_mae: 0.2607\n",
            "Epoch 40/50\n",
            "4/4 [==============================] - 0s 11ms/step - loss: 0.1232 - mae: 0.2875 - val_loss: 0.1274 - val_mae: 0.2750\n",
            "Epoch 41/50\n",
            "4/4 [==============================] - 0s 9ms/step - loss: 0.1267 - mae: 0.2907 - val_loss: 0.1338 - val_mae: 0.2857\n",
            "Epoch 42/50\n",
            "4/4 [==============================] - 0s 9ms/step - loss: 0.1267 - mae: 0.2905 - val_loss: 0.1264 - val_mae: 0.2753\n",
            "Epoch 43/50\n",
            "4/4 [==============================] - 0s 10ms/step - loss: 0.1242 - mae: 0.2903 - val_loss: 0.1166 - val_mae: 0.2607\n",
            "Epoch 44/50\n",
            "4/4 [==============================] - 0s 11ms/step - loss: 0.1224 - mae: 0.2883 - val_loss: 0.1124 - val_mae: 0.2548\n",
            "Epoch 45/50\n",
            "4/4 [==============================] - 0s 12ms/step - loss: 0.1225 - mae: 0.2889 - val_loss: 0.1114 - val_mae: 0.2534\n",
            "Epoch 46/50\n",
            "4/4 [==============================] - 0s 12ms/step - loss: 0.1223 - mae: 0.2886 - val_loss: 0.1124 - val_mae: 0.2544\n",
            "Epoch 47/50\n",
            "4/4 [==============================] - 0s 11ms/step - loss: 0.1222 - mae: 0.2880 - val_loss: 0.1156 - val_mae: 0.2589\n",
            "Epoch 48/50\n",
            "4/4 [==============================] - 0s 9ms/step - loss: 0.1217 - mae: 0.2873 - val_loss: 0.1174 - val_mae: 0.2615\n",
            "Epoch 49/50\n",
            "4/4 [==============================] - 0s 8ms/step - loss: 0.1215 - mae: 0.2866 - val_loss: 0.1215 - val_mae: 0.2680\n",
            "Epoch 50/50\n",
            "4/4 [==============================] - 0s 10ms/step - loss: 0.1227 - mae: 0.2878 - val_loss: 0.1232 - val_mae: 0.2710\n",
            "Epoch 1/50\n",
            "4/4 [==============================] - 1s 53ms/step - loss: 29.9043 - mae: 5.4144 - val_loss: 18.7968 - val_mae: 4.3079\n",
            "Epoch 2/50\n",
            "4/4 [==============================] - 0s 10ms/step - loss: 19.8212 - mae: 4.4200 - val_loss: 11.9920 - val_mae: 3.4447\n",
            "Epoch 3/50\n",
            "4/4 [==============================] - 0s 9ms/step - loss: 11.9955 - mae: 3.4370 - val_loss: 6.4805 - val_mae: 2.5158\n",
            "Epoch 4/50\n",
            "4/4 [==============================] - 0s 9ms/step - loss: 5.8166 - mae: 2.3653 - val_loss: 2.5676 - val_mae: 1.4910\n",
            "Epoch 5/50\n",
            "4/4 [==============================] - 0s 9ms/step - loss: 1.8431 - mae: 1.2092 - val_loss: 0.8814 - val_mae: 0.8547\n",
            "Epoch 6/50\n",
            "4/4 [==============================] - 0s 9ms/step - loss: 0.8445 - mae: 0.7616 - val_loss: 1.2328 - val_mae: 0.8775\n",
            "Epoch 7/50\n",
            "4/4 [==============================] - 0s 9ms/step - loss: 1.4564 - mae: 1.0077 - val_loss: 1.5047 - val_mae: 0.9031\n",
            "Epoch 8/50\n",
            "4/4 [==============================] - 0s 11ms/step - loss: 1.5178 - mae: 1.0109 - val_loss: 1.0187 - val_mae: 0.7646\n",
            "Epoch 9/50\n",
            "4/4 [==============================] - 0s 10ms/step - loss: 0.8844 - mae: 0.7838 - val_loss: 0.5929 - val_mae: 0.6654\n",
            "Epoch 10/50\n",
            "4/4 [==============================] - 0s 9ms/step - loss: 0.4914 - mae: 0.5885 - val_loss: 0.5060 - val_mae: 0.6553\n",
            "Epoch 11/50\n",
            "4/4 [==============================] - 0s 10ms/step - loss: 0.4412 - mae: 0.5547 - val_loss: 0.5086 - val_mae: 0.6539\n",
            "Epoch 12/50\n",
            "4/4 [==============================] - 0s 11ms/step - loss: 0.4643 - mae: 0.5781 - val_loss: 0.4493 - val_mae: 0.6142\n",
            "Epoch 13/50\n",
            "4/4 [==============================] - 0s 9ms/step - loss: 0.3956 - mae: 0.5345 - val_loss: 0.3490 - val_mae: 0.5389\n",
            "Epoch 14/50\n",
            "4/4 [==============================] - 0s 13ms/step - loss: 0.2847 - mae: 0.4428 - val_loss: 0.2947 - val_mae: 0.4690\n",
            "Epoch 15/50\n",
            "4/4 [==============================] - 0s 10ms/step - loss: 0.2448 - mae: 0.3983 - val_loss: 0.2915 - val_mae: 0.4300\n",
            "Epoch 16/50\n",
            "4/4 [==============================] - 0s 9ms/step - loss: 0.2360 - mae: 0.3859 - val_loss: 0.2824 - val_mae: 0.4101\n",
            "Epoch 17/50\n",
            "4/4 [==============================] - 0s 10ms/step - loss: 0.2234 - mae: 0.3736 - val_loss: 0.2484 - val_mae: 0.3886\n",
            "Epoch 18/50\n",
            "4/4 [==============================] - 0s 9ms/step - loss: 0.1936 - mae: 0.3498 - val_loss: 0.2096 - val_mae: 0.3636\n",
            "Epoch 19/50\n",
            "4/4 [==============================] - 0s 17ms/step - loss: 0.1751 - mae: 0.3344 - val_loss: 0.1828 - val_mae: 0.3419\n",
            "Epoch 20/50\n",
            "4/4 [==============================] - 0s 10ms/step - loss: 0.1751 - mae: 0.3400 - val_loss: 0.1699 - val_mae: 0.3289\n",
            "Epoch 21/50\n",
            "4/4 [==============================] - 0s 9ms/step - loss: 0.1673 - mae: 0.3359 - val_loss: 0.1662 - val_mae: 0.3204\n",
            "Epoch 22/50\n",
            "4/4 [==============================] - 0s 9ms/step - loss: 0.1595 - mae: 0.3260 - val_loss: 0.1721 - val_mae: 0.3196\n",
            "Epoch 23/50\n",
            "4/4 [==============================] - 0s 9ms/step - loss: 0.1560 - mae: 0.3175 - val_loss: 0.1753 - val_mae: 0.3213\n",
            "Epoch 24/50\n",
            "4/4 [==============================] - 0s 9ms/step - loss: 0.1558 - mae: 0.3153 - val_loss: 0.1738 - val_mae: 0.3209\n",
            "Epoch 25/50\n",
            "4/4 [==============================] - 0s 9ms/step - loss: 0.1535 - mae: 0.3144 - val_loss: 0.1637 - val_mae: 0.3102\n",
            "Epoch 26/50\n",
            "4/4 [==============================] - 0s 9ms/step - loss: 0.1513 - mae: 0.3149 - val_loss: 0.1572 - val_mae: 0.3029\n",
            "Epoch 27/50\n",
            "4/4 [==============================] - 0s 11ms/step - loss: 0.1509 - mae: 0.3165 - val_loss: 0.1568 - val_mae: 0.3031\n",
            "Epoch 28/50\n",
            "4/4 [==============================] - 0s 10ms/step - loss: 0.1498 - mae: 0.3152 - val_loss: 0.1602 - val_mae: 0.3079\n",
            "Epoch 29/50\n",
            "4/4 [==============================] - 0s 12ms/step - loss: 0.1488 - mae: 0.3132 - val_loss: 0.1656 - val_mae: 0.3147\n",
            "Epoch 30/50\n",
            "4/4 [==============================] - 0s 11ms/step - loss: 0.1504 - mae: 0.3118 - val_loss: 0.1702 - val_mae: 0.3203\n",
            "Epoch 31/50\n",
            "4/4 [==============================] - 0s 9ms/step - loss: 0.1502 - mae: 0.3114 - val_loss: 0.1654 - val_mae: 0.3149\n",
            "Epoch 32/50\n",
            "4/4 [==============================] - 0s 14ms/step - loss: 0.1483 - mae: 0.3112 - val_loss: 0.1577 - val_mae: 0.3060\n",
            "Epoch 33/50\n",
            "4/4 [==============================] - 0s 13ms/step - loss: 0.1469 - mae: 0.3123 - val_loss: 0.1521 - val_mae: 0.2989\n",
            "Epoch 34/50\n",
            "4/4 [==============================] - 0s 10ms/step - loss: 0.1473 - mae: 0.3134 - val_loss: 0.1516 - val_mae: 0.2985\n",
            "Epoch 35/50\n",
            "4/4 [==============================] - 0s 12ms/step - loss: 0.1453 - mae: 0.3094 - val_loss: 0.1608 - val_mae: 0.3102\n",
            "Epoch 36/50\n",
            "4/4 [==============================] - 0s 9ms/step - loss: 0.1471 - mae: 0.3082 - val_loss: 0.1669 - val_mae: 0.3174\n",
            "Epoch 37/50\n",
            "4/4 [==============================] - 0s 11ms/step - loss: 0.1461 - mae: 0.3067 - val_loss: 0.1551 - val_mae: 0.3042\n",
            "Epoch 38/50\n",
            "4/4 [==============================] - 0s 12ms/step - loss: 0.1447 - mae: 0.3114 - val_loss: 0.1428 - val_mae: 0.2896\n",
            "Epoch 39/50\n",
            "4/4 [==============================] - 0s 10ms/step - loss: 0.1457 - mae: 0.3134 - val_loss: 0.1424 - val_mae: 0.2889\n",
            "Epoch 40/50\n",
            "4/4 [==============================] - 0s 9ms/step - loss: 0.1442 - mae: 0.3107 - val_loss: 0.1471 - val_mae: 0.2952\n",
            "Epoch 41/50\n",
            "4/4 [==============================] - 0s 9ms/step - loss: 0.1432 - mae: 0.3092 - val_loss: 0.1490 - val_mae: 0.2982\n",
            "Epoch 42/50\n",
            "4/4 [==============================] - 0s 9ms/step - loss: 0.1428 - mae: 0.3089 - val_loss: 0.1446 - val_mae: 0.2928\n",
            "Epoch 43/50\n",
            "4/4 [==============================] - 0s 13ms/step - loss: 0.1418 - mae: 0.3084 - val_loss: 0.1432 - val_mae: 0.2911\n",
            "Epoch 44/50\n",
            "4/4 [==============================] - 0s 10ms/step - loss: 0.1418 - mae: 0.3082 - val_loss: 0.1428 - val_mae: 0.2907\n",
            "Epoch 45/50\n",
            "4/4 [==============================] - 0s 9ms/step - loss: 0.1409 - mae: 0.3077 - val_loss: 0.1407 - val_mae: 0.2881\n",
            "Epoch 46/50\n",
            "4/4 [==============================] - 0s 10ms/step - loss: 0.1408 - mae: 0.3078 - val_loss: 0.1425 - val_mae: 0.2904\n",
            "Epoch 47/50\n",
            "4/4 [==============================] - 0s 9ms/step - loss: 0.1383 - mae: 0.3035 - val_loss: 0.1519 - val_mae: 0.3023\n",
            "Epoch 48/50\n",
            "4/4 [==============================] - 0s 9ms/step - loss: 0.1398 - mae: 0.3021 - val_loss: 0.1580 - val_mae: 0.3090\n",
            "Epoch 49/50\n",
            "4/4 [==============================] - 0s 9ms/step - loss: 0.1424 - mae: 0.3030 - val_loss: 0.1557 - val_mae: 0.3066\n",
            "Epoch 50/50\n",
            "4/4 [==============================] - 0s 9ms/step - loss: 0.1392 - mae: 0.3018 - val_loss: 0.1430 - val_mae: 0.2922\n",
            "Epoch 1/50\n",
            "4/4 [==============================] - 1s 51ms/step - loss: 36.6287 - mae: 5.9676 - val_loss: 20.3745 - val_mae: 4.4701\n",
            "Epoch 2/50\n",
            "4/4 [==============================] - 0s 9ms/step - loss: 21.0812 - mae: 4.5353 - val_loss: 10.4784 - val_mae: 3.2147\n",
            "Epoch 3/50\n",
            "4/4 [==============================] - 0s 10ms/step - loss: 9.4114 - mae: 3.0188 - val_loss: 2.7635 - val_mae: 1.6064\n",
            "Epoch 4/50\n",
            "4/4 [==============================] - 0s 9ms/step - loss: 1.6141 - mae: 1.1255 - val_loss: 0.8779 - val_mae: 0.6956\n",
            "Epoch 5/50\n",
            "4/4 [==============================] - 0s 10ms/step - loss: 2.0720 - mae: 1.1510 - val_loss: 2.9071 - val_mae: 1.3520\n",
            "Epoch 6/50\n",
            "4/4 [==============================] - 0s 10ms/step - loss: 3.0593 - mae: 1.4634 - val_loss: 1.2098 - val_mae: 0.7789\n",
            "Epoch 7/50\n",
            "4/4 [==============================] - 0s 11ms/step - loss: 0.8820 - mae: 0.7420 - val_loss: 0.3295 - val_mae: 0.5195\n",
            "Epoch 8/50\n",
            "4/4 [==============================] - 0s 10ms/step - loss: 0.4339 - mae: 0.5623 - val_loss: 0.6348 - val_mae: 0.7098\n",
            "Epoch 9/50\n",
            "4/4 [==============================] - 0s 10ms/step - loss: 0.8264 - mae: 0.8331 - val_loss: 0.5982 - val_mae: 0.6820\n",
            "Epoch 10/50\n",
            "4/4 [==============================] - 0s 13ms/step - loss: 0.6383 - mae: 0.7063 - val_loss: 0.2443 - val_mae: 0.4033\n",
            "Epoch 11/50\n",
            "4/4 [==============================] - 0s 10ms/step - loss: 0.2361 - mae: 0.4009 - val_loss: 0.2432 - val_mae: 0.3968\n",
            "Epoch 12/50\n",
            "4/4 [==============================] - 0s 11ms/step - loss: 0.2555 - mae: 0.4114 - val_loss: 0.3832 - val_mae: 0.5266\n",
            "Epoch 13/50\n",
            "4/4 [==============================] - 0s 10ms/step - loss: 0.3017 - mae: 0.4480 - val_loss: 0.2470 - val_mae: 0.4171\n",
            "Epoch 14/50\n",
            "4/4 [==============================] - 0s 11ms/step - loss: 0.1969 - mae: 0.3545 - val_loss: 0.1622 - val_mae: 0.3116\n",
            "Epoch 15/50\n",
            "4/4 [==============================] - 0s 10ms/step - loss: 0.1839 - mae: 0.3464 - val_loss: 0.1570 - val_mae: 0.3082\n",
            "Epoch 16/50\n",
            "4/4 [==============================] - 0s 11ms/step - loss: 0.1704 - mae: 0.3324 - val_loss: 0.1579 - val_mae: 0.3071\n",
            "Epoch 17/50\n",
            "4/4 [==============================] - 0s 10ms/step - loss: 0.1515 - mae: 0.3112 - val_loss: 0.1853 - val_mae: 0.3412\n",
            "Epoch 18/50\n",
            "4/4 [==============================] - 0s 10ms/step - loss: 0.1672 - mae: 0.3248 - val_loss: 0.1894 - val_mae: 0.3446\n",
            "Epoch 19/50\n",
            "4/4 [==============================] - 0s 14ms/step - loss: 0.1598 - mae: 0.3190 - val_loss: 0.1578 - val_mae: 0.3046\n",
            "Epoch 20/50\n",
            "4/4 [==============================] - 0s 10ms/step - loss: 0.1484 - mae: 0.3094 - val_loss: 0.1426 - val_mae: 0.2960\n",
            "Epoch 21/50\n",
            "4/4 [==============================] - 0s 12ms/step - loss: 0.1526 - mae: 0.3186 - val_loss: 0.1407 - val_mae: 0.2946\n",
            "Epoch 22/50\n",
            "4/4 [==============================] - 0s 11ms/step - loss: 0.1515 - mae: 0.3176 - val_loss: 0.1407 - val_mae: 0.2911\n",
            "Epoch 23/50\n",
            "4/4 [==============================] - 0s 10ms/step - loss: 0.1469 - mae: 0.3118 - val_loss: 0.1432 - val_mae: 0.2893\n",
            "Epoch 24/50\n",
            "4/4 [==============================] - 0s 11ms/step - loss: 0.1444 - mae: 0.3056 - val_loss: 0.1498 - val_mae: 0.2982\n",
            "Epoch 25/50\n",
            "4/4 [==============================] - 0s 11ms/step - loss: 0.1441 - mae: 0.3045 - val_loss: 0.1464 - val_mae: 0.2946\n",
            "Epoch 26/50\n",
            "4/4 [==============================] - 0s 12ms/step - loss: 0.1428 - mae: 0.3049 - val_loss: 0.1373 - val_mae: 0.2850\n",
            "Epoch 27/50\n",
            "4/4 [==============================] - 0s 13ms/step - loss: 0.1428 - mae: 0.3077 - val_loss: 0.1346 - val_mae: 0.2831\n",
            "Epoch 28/50\n",
            "4/4 [==============================] - 0s 11ms/step - loss: 0.1408 - mae: 0.3044 - val_loss: 0.1413 - val_mae: 0.2897\n",
            "Epoch 29/50\n",
            "4/4 [==============================] - 0s 11ms/step - loss: 0.1396 - mae: 0.3011 - val_loss: 0.1415 - val_mae: 0.2905\n",
            "Epoch 30/50\n",
            "4/4 [==============================] - 0s 11ms/step - loss: 0.1389 - mae: 0.3009 - val_loss: 0.1387 - val_mae: 0.2866\n",
            "Epoch 31/50\n",
            "4/4 [==============================] - 0s 11ms/step - loss: 0.1377 - mae: 0.3004 - val_loss: 0.1336 - val_mae: 0.2801\n",
            "Epoch 32/50\n",
            "4/4 [==============================] - 0s 10ms/step - loss: 0.1375 - mae: 0.3014 - val_loss: 0.1281 - val_mae: 0.2793\n",
            "Epoch 33/50\n",
            "4/4 [==============================] - 0s 12ms/step - loss: 0.1378 - mae: 0.3040 - val_loss: 0.1346 - val_mae: 0.2814\n",
            "Epoch 34/50\n",
            "4/4 [==============================] - 0s 11ms/step - loss: 0.1408 - mae: 0.3020 - val_loss: 0.1569 - val_mae: 0.3084\n",
            "Epoch 35/50\n",
            "4/4 [==============================] - 0s 12ms/step - loss: 0.1423 - mae: 0.3030 - val_loss: 0.1367 - val_mae: 0.2859\n",
            "Epoch 36/50\n",
            "4/4 [==============================] - 0s 10ms/step - loss: 0.1364 - mae: 0.2998 - val_loss: 0.1201 - val_mae: 0.2710\n",
            "Epoch 37/50\n",
            "4/4 [==============================] - 0s 11ms/step - loss: 0.1370 - mae: 0.3025 - val_loss: 0.1237 - val_mae: 0.2724\n",
            "Epoch 38/50\n",
            "4/4 [==============================] - 0s 13ms/step - loss: 0.1332 - mae: 0.2961 - val_loss: 0.1363 - val_mae: 0.2927\n",
            "Epoch 39/50\n",
            "4/4 [==============================] - 0s 12ms/step - loss: 0.1345 - mae: 0.2977 - val_loss: 0.1304 - val_mae: 0.2853\n",
            "Epoch 40/50\n",
            "4/4 [==============================] - 0s 11ms/step - loss: 0.1316 - mae: 0.2950 - val_loss: 0.1347 - val_mae: 0.2919\n",
            "Epoch 41/50\n",
            "4/4 [==============================] - 0s 11ms/step - loss: 0.1327 - mae: 0.2942 - val_loss: 0.1357 - val_mae: 0.2904\n",
            "Epoch 42/50\n",
            "4/4 [==============================] - 0s 12ms/step - loss: 0.1309 - mae: 0.2939 - val_loss: 0.1222 - val_mae: 0.2723\n",
            "Epoch 43/50\n",
            "4/4 [==============================] - 0s 9ms/step - loss: 0.1281 - mae: 0.2922 - val_loss: 0.1185 - val_mae: 0.2676\n",
            "Epoch 44/50\n",
            "4/4 [==============================] - 0s 10ms/step - loss: 0.1276 - mae: 0.2917 - val_loss: 0.1172 - val_mae: 0.2664\n",
            "Epoch 45/50\n",
            "4/4 [==============================] - 0s 11ms/step - loss: 0.1272 - mae: 0.2911 - val_loss: 0.1180 - val_mae: 0.2679\n",
            "Epoch 46/50\n",
            "4/4 [==============================] - 0s 11ms/step - loss: 0.1279 - mae: 0.2925 - val_loss: 0.1166 - val_mae: 0.2663\n",
            "Epoch 47/50\n",
            "4/4 [==============================] - 0s 11ms/step - loss: 0.1244 - mae: 0.2868 - val_loss: 0.1317 - val_mae: 0.2853\n",
            "Epoch 48/50\n",
            "4/4 [==============================] - 0s 12ms/step - loss: 0.1288 - mae: 0.2901 - val_loss: 0.1249 - val_mae: 0.2776\n",
            "Epoch 49/50\n",
            "4/4 [==============================] - 0s 11ms/step - loss: 0.1240 - mae: 0.2846 - val_loss: 0.1087 - val_mae: 0.2564\n",
            "Epoch 50/50\n",
            "4/4 [==============================] - 0s 9ms/step - loss: 0.1271 - mae: 0.2919 - val_loss: 0.1070 - val_mae: 0.2543\n"
          ]
        }
      ]
    },
    {
      "cell_type": "markdown",
      "metadata": {
        "id": "BhOAq4uY0ZTY"
      },
      "source": [
        "Побудуємо графіки точності"
      ]
    },
    {
      "cell_type": "code",
      "metadata": {
        "id": "aVpCELn10Ysc"
      },
      "source": [
        "import matplotlib.pyplot as plt"
      ],
      "execution_count": 105,
      "outputs": []
    },
    {
      "cell_type": "code",
      "metadata": {
        "colab": {
          "base_uri": "https://localhost:8080/",
          "height": 1000
        },
        "id": "-hALsncQ0k6D",
        "outputId": "2cc73348-8c05-4aa5-afa1-5f3f32019ea5"
      },
      "source": [
        "counter = 0\n",
        "for i in histories:\n",
        "  counter += 1\n",
        "  loss = i.history['loss']\n",
        "  val_loss = i.history['val_loss']\n",
        "  \n",
        "  epochs_range = range(EPOCHS)\n",
        "\n",
        "  plt.figure(figsize=(25,10))\n",
        "  plt.plot(epochs_range, loss, label='Точність на навчанні')\n",
        "  plt.plot(epochs_range, val_loss, label='Точність на валідації')\n",
        "  plt.legend(loc='lower right')\n",
        "  plt.title(f'Графіки втрат на навчальних і валідаційних даних {counter} моделі')"
      ],
      "execution_count": 106,
      "outputs": [
        {
          "output_type": "display_data",
          "data": {
            "image/png": "[encoded data removed]",
            "text/plain": [
              "<Figure size 1800x720 with 1 Axes>"
            ]
          },
          "metadata": {
            "needs_background": "light"
          }
        },
        {
          "output_type": "display_data",
          "data": {
            "image/png": "[encoded data removed]",
            "text/plain": [
              "<Figure size 1800x720 with 1 Axes>"
            ]
          },
          "metadata": {
            "needs_background": "light"
          }
        },
        {
          "output_type": "display_data",
          "data": {
            "image/png": "[encoded data removed]",
            "text/plain": [
              "<Figure size 1800x720 with 1 Axes>"
            ]
          },
          "metadata": {
            "needs_background": "light"
          }
        },
        {
          "output_type": "display_data",
          "data": {
            "image/png": "[encoded data removed]",
            "text/plain": [
              "<Figure size 1800x720 with 1 Axes>"
            ]
          },
          "metadata": {
            "needs_background": "light"
          }
        }
      ]
    },
    {
      "cell_type": "code",
      "metadata": {
        "colab": {
          "base_uri": "https://localhost:8080/"
        },
        "id": "nI8O5c8v32pr",
        "outputId": "fb0fdf0c-f952-4cee-a5cf-9e4fb4ec8a58"
      },
      "source": [
        "predictions = (models[0].predict(test_X))\n",
        "test_y = pd.DataFrame(test_y)\n",
        "counter = 0\n",
        "for i in test_y['SepalLength']:\n",
        "  print(f\"Точне значення: {i}, передбачуване значення: {predictions[counter][0]}\")\n",
        "  counter += 1\n",
        "\n",
        "# for i in range(0,len(test_y)):\n",
        "# \tprint(\"Точне значення: {0}, передбачуване значення: {1}\".format(test_y[i], predictions[i][0]))"
      ],
      "execution_count": 113,
      "outputs": [
        {
          "output_type": "stream",
          "name": "stdout",
          "text": [
            "Точне значення: 5.699999809265137, передбачуване значення: 6.01221227645874\n",
            "Точне значення: 6.199999809265137, передбачуване значення: 5.676867961883545\n",
            "Точне значення: 7.0, передбачуване значення: 6.68641471862793\n",
            "Точне значення: 5.800000190734863, передбачуване значення: 6.0499587059021\n",
            "Точне значення: 5.400000095367432, передбачуване значення: 5.120497703552246\n",
            "Точне значення: 5.0, передбачуване значення: 4.665716648101807\n",
            "Точне значення: 6.099999904632568, передбачуване значення: 6.3067450523376465\n",
            "Точне значення: 6.099999904632568, передбачуване значення: 5.761259078979492\n",
            "Точне значення: 7.199999809265137, передбачуване значення: 6.778338432312012\n",
            "Точне значення: 5.699999809265137, передбачуване значення: 5.1840715408325195\n",
            "Точне значення: 6.300000190734863, передбачуване значення: 6.013370513916016\n",
            "Точне значення: 6.400000095367432, передбачуване значення: 6.611080646514893\n",
            "Точне значення: 6.300000190734863, передбачуване значення: 6.246467590332031\n",
            "Точне значення: 6.699999809265137, передбачуване значення: 6.820878982543945\n",
            "Точне значення: 4.900000095367432, передбачуване значення: 4.676496982574463\n"
          ]
        }
      ]
    },
    {
      "cell_type": "code",
      "metadata": {
        "colab": {
          "base_uri": "https://localhost:8080/"
        },
        "id": "Blrtmvun-OYF",
        "outputId": "95e162db-53b7-422c-c5e4-78f63bdfe5ef"
      },
      "source": [
        "for i in range(4):\n",
        "  data = models[i].evaluate(test_X, test_y)\n",
        "  print(f'Model {i+1} loss: {data[0]}, mae: {data[1]}')\n",
        "\n"
      ],
      "execution_count": 112,
      "outputs": [
        {
          "output_type": "stream",
          "name": "stdout",
          "text": [
            "1/1 [==============================] - 0s 18ms/step - loss: 0.1012 - mae: 0.2928\n",
            "Model 1 loss: 0.10116251558065414, mae: 0.2927583158016205\n",
            "1/1 [==============================] - 0s 17ms/step - loss: 0.1671 - mae: 0.3611\n",
            "Model 2 loss: 0.1670624166727066, mae: 0.36114344000816345\n",
            "1/1 [==============================] - 0s 20ms/step - loss: 0.1739 - mae: 0.3791\n",
            "Model 3 loss: 0.1738898605108261, mae: 0.3790982961654663\n",
            "1/1 [==============================] - 0s 17ms/step - loss: 0.1784 - mae: 0.3677\n",
            "Model 4 loss: 0.17842859029769897, mae: 0.36769717931747437\n"
          ]
        }
      ]
    }
  ]
}